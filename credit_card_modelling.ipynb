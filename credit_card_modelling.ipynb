{
 "cells": [
  {
   "cell_type": "code",
   "execution_count": 1,
   "metadata": {},
   "outputs": [],
   "source": [
    "import numpy as np \n",
    "import pandas as pd \n",
    "import seaborn as sns\n",
    "from matplotlib import pyplot as plt\n",
    "from matplotlib import style\n",
    "from sklearn import linear_model\n",
    "from sklearn.linear_model import LogisticRegression\n",
    "from sklearn.tree import DecisionTreeClassifier\n",
    "from sklearn.svm import SVC, LinearSVC\n",
    "from sklearn.neighbors import KNeighborsClassifier\n",
    "from sklearn.model_selection import train_test_split\n",
    "from sklearn.preprocessing import StandardScaler\n",
    "from sklearn.model_selection import GridSearchCV\n",
    "from sklearn.metrics import accuracy_score\n",
    "from imblearn.over_sampling import (ADASYN, SMOTE, BorderlineSMOTE, SVMSMOTE, SMOTENC, KMeansSMOTE, RandomOverSampler)\n",
    "from imblearn.combine import (SMOTETomek, SMOTEENN)\n",
    "from imblearn.under_sampling import (CondensedNearestNeighbour, TomekLinks, RandomUnderSampler)\n",
    "from sklearn.metrics import f1_score\n",
    "from sklearn.pipeline import Pipeline\n",
    "\n",
    "\n",
    "df = pd.read_csv('creditcard.csv')"
   ]
  },
  {
   "cell_type": "code",
   "execution_count": 2,
   "metadata": {},
   "outputs": [],
   "source": [
    "#No null values, all of them are numeric\n",
    "#df.info()"
   ]
  },
  {
   "cell_type": "code",
   "execution_count": 3,
   "metadata": {},
   "outputs": [],
   "source": [
    "#It seems reasonable to drop time variable\n",
    "X = df.drop(['Class', 'Time'], axis = 1)\n",
    "y = df['Class']\n",
    "\n",
    "X_train, X_test, y_train, y_test = train_test_split(X, y, test_size=0.4, random_state=42)"
   ]
  },
  {
   "cell_type": "code",
   "execution_count": 4,
   "metadata": {},
   "outputs": [],
   "source": [
    "#Notice that it will take time because of high number of records in df\n",
    "#resapmling data, OS-oversapmling, US-undersampling, CS-combined sampling\n",
    "samp = {'Rand_OS': RandomOverSampler(sampling_strategy = 0.4).fit_resample(X_train, y_train),\n",
    "             'ADASYN_OS': ADASYN(sampling_strategy = 0.4, n_jobs = -1).fit_resample(X_train, y_train),\n",
    "             'SMOTE_OS': SMOTE(sampling_strategy = 0.4, n_jobs = -1).fit_resample(X_train, y_train),\n",
    "             'Random_US': RandomUnderSampler(sampling_strategy = 0.4).fit_resample(X_train, y_train),\n",
    "             'SMOTEENN_CS' : SMOTEENN(sampling_strategy = 0.4, n_jobs = -1).fit_resample(X_train, y_train),\n",
    "             'SMOTETomek_CS': SMOTETomek(sampling_strategy = 0.4, n_jobs = -1).fit_resample(X_train, y_train)}"
   ]
  },
  {
   "cell_type": "code",
   "execution_count": 9,
   "metadata": {},
   "outputs": [],
   "source": [
    "#Storage of f1 scores for different sampling algorithms and models\n",
    "f_score = {}"
   ]
  },
  {
   "cell_type": "code",
   "execution_count": 10,
   "metadata": {},
   "outputs": [
    {
     "name": "stderr",
     "output_type": "stream",
     "text": [
      "C:\\Users\\Wiktor\\anaconda3\\lib\\site-packages\\sklearn\\utils\\validation.py:68: FutureWarning: Pass labels=4 as keyword args. From version 0.25 passing these as positional arguments will result in an error\n",
      "  warnings.warn(\"Pass {} as keyword args. From version 0.25 \"\n",
      "C:\\Users\\Wiktor\\anaconda3\\lib\\site-packages\\sklearn\\utils\\validation.py:68: FutureWarning: Pass labels=4 as keyword args. From version 0.25 passing these as positional arguments will result in an error\n",
      "  warnings.warn(\"Pass {} as keyword args. From version 0.25 \"\n",
      "C:\\Users\\Wiktor\\anaconda3\\lib\\site-packages\\sklearn\\utils\\validation.py:68: FutureWarning: Pass labels=4 as keyword args. From version 0.25 passing these as positional arguments will result in an error\n",
      "  warnings.warn(\"Pass {} as keyword args. From version 0.25 \"\n",
      "C:\\Users\\Wiktor\\anaconda3\\lib\\site-packages\\sklearn\\utils\\validation.py:68: FutureWarning: Pass labels=4 as keyword args. From version 0.25 passing these as positional arguments will result in an error\n",
      "  warnings.warn(\"Pass {} as keyword args. From version 0.25 \"\n",
      "C:\\Users\\Wiktor\\anaconda3\\lib\\site-packages\\sklearn\\utils\\validation.py:68: FutureWarning: Pass labels=4 as keyword args. From version 0.25 passing these as positional arguments will result in an error\n",
      "  warnings.warn(\"Pass {} as keyword args. From version 0.25 \"\n"
     ]
    },
    {
     "name": "stdout",
     "output_type": "stream",
     "text": [
      "{'LogisticRegression Rand_OS': 0.0, 'LogisticRegression ADASYN_OS': 0.0, 'LogisticRegression SMOTE_OS': 0.0, 'LogisticRegression Random_US': 0.0, 'LogisticRegression SMOTEENN_CS': 0.0, 'LogisticRegression SMOTETomek_CS': 0.0}\n"
     ]
    },
    {
     "name": "stderr",
     "output_type": "stream",
     "text": [
      "C:\\Users\\Wiktor\\anaconda3\\lib\\site-packages\\sklearn\\utils\\validation.py:68: FutureWarning: Pass labels=4 as keyword args. From version 0.25 passing these as positional arguments will result in an error\n",
      "  warnings.warn(\"Pass {} as keyword args. From version 0.25 \"\n"
     ]
    }
   ],
   "source": [
    "pipe = Pipeline(steps=[('scaler', StandardScaler()), ('logistic', LogisticRegression(max_iter = 10000))])\n",
    "param_grid = {'logistic__C': [0.001, 0.01, 0.1, 1, 10]}\n",
    "\n",
    "\n",
    "for i in samp:\n",
    "    search = GridSearchCV(pipe, param_grid, n_jobs=-1)\n",
    "    search.fit(samp[i][0], samp[i][1])\n",
    "    y_pred = search.predict(X_test)\n",
    "\n",
    "    f_score['LogisticRegression %s' %i] = round(f1_score(y_test, y_pred,4))\n",
    "print(f_score)"
   ]
  },
  {
   "cell_type": "code",
   "execution_count": 102,
   "metadata": {},
   "outputs": [
    {
     "name": "stderr",
     "output_type": "stream",
     "text": [
      "C:\\Users\\Wiktor\\anaconda3\\lib\\site-packages\\sklearn\\utils\\validation.py:68: FutureWarning: Pass labels=4 as keyword args. From version 0.25 passing these as positional arguments will result in an error\n",
      "  warnings.warn(\"Pass {} as keyword args. From version 0.25 \"\n",
      "C:\\Users\\Wiktor\\anaconda3\\lib\\site-packages\\sklearn\\utils\\validation.py:68: FutureWarning: Pass labels=4 as keyword args. From version 0.25 passing these as positional arguments will result in an error\n",
      "  warnings.warn(\"Pass {} as keyword args. From version 0.25 \"\n",
      "C:\\Users\\Wiktor\\anaconda3\\lib\\site-packages\\sklearn\\utils\\validation.py:68: FutureWarning: Pass labels=4 as keyword args. From version 0.25 passing these as positional arguments will result in an error\n",
      "  warnings.warn(\"Pass {} as keyword args. From version 0.25 \"\n",
      "C:\\Users\\Wiktor\\anaconda3\\lib\\site-packages\\sklearn\\utils\\validation.py:68: FutureWarning: Pass labels=4 as keyword args. From version 0.25 passing these as positional arguments will result in an error\n",
      "  warnings.warn(\"Pass {} as keyword args. From version 0.25 \"\n",
      "C:\\Users\\Wiktor\\anaconda3\\lib\\site-packages\\sklearn\\utils\\validation.py:68: FutureWarning: Pass labels=4 as keyword args. From version 0.25 passing these as positional arguments will result in an error\n",
      "  warnings.warn(\"Pass {} as keyword args. From version 0.25 \"\n",
      "C:\\Users\\Wiktor\\anaconda3\\lib\\site-packages\\sklearn\\utils\\validation.py:68: FutureWarning: Pass labels=4 as keyword args. From version 0.25 passing these as positional arguments will result in an error\n",
      "  warnings.warn(\"Pass {} as keyword args. From version 0.25 \"\n"
     ]
    }
   ],
   "source": [
    "pipe = Pipeline(steps=[('scaler', StandardScaler()), ('dTree', DecisionTreeClassifier())])\n",
    "\n",
    "param_grid = {'dTree__min_samples_split': [1000, 2000],\n",
    "             'dTree__max_depth': [5, 10]}\n",
    "\n",
    "search = GridSearchCV(pipe, param_grid, n_jobs=-1)\n",
    "\n",
    "for i in samp:\n",
    "    search.fit(samp[i][0], samp[i][1])\n",
    "    y_pred = search.predict(X_test)\n",
    "\n",
    "    f_score['dTree %s' %i] = round(f1_score(y_test, y_pred,4))"
   ]
  },
  {
   "cell_type": "code",
   "execution_count": null,
   "metadata": {},
   "outputs": [],
   "source": [
    "# standaryzacja\n",
    "# n_neigh 3 5 10 15\n",
    "# weight \n",
    "# zaimplementowac wlasny klasyfikator\n",
    "\n",
    "for i in samp:\n",
    "    pipe = Pipeline(steps=[('scaler', StandardScaler()), ('neigh', KNeighborsClassifier(n_neighbors=3, n_jobs=-1))])\n",
    "    pipe.fit(samp[i][0], samp[i][1])\n",
    "    y_pred = neigh.predict(X_test)\n",
    "\n",
    "    f_score['KNeighbors %s' %i] = round(f1_score(y_test, y_pred,4))"
   ]
  },
  {
   "cell_type": "code",
   "execution_count": null,
   "metadata": {},
   "outputs": [],
   "source": [
    "print(f_score['KNeighbors'])"
   ]
  },
  {
   "cell_type": "code",
   "execution_count": null,
   "metadata": {},
   "outputs": [],
   "source": [
    "# standaryzacja\n",
    "# weight ‘distance’\n",
    "# stacking lub esambling\n",
    "\n",
    "svc = SVC()\n",
    "svc.fit(samp['Rand_OS'][0], over_samp['Rand_OS'][1])\n",
    "y_pred = linear_svc.predict(X_test)\n",
    "\n",
    "f_score['SVC'] = f1_score(y_test, y_pred)"
   ]
  },
  {
   "cell_type": "code",
   "execution_count": null,
   "metadata": {},
   "outputs": [],
   "source": []
  }
 ],
 "metadata": {
  "kernelspec": {
   "display_name": "Python 3",
   "language": "python",
   "name": "python3"
  },
  "language_info": {
   "codemirror_mode": {
    "name": "ipython",
    "version": 3
   },
   "file_extension": ".py",
   "mimetype": "text/x-python",
   "name": "python",
   "nbconvert_exporter": "python",
   "pygments_lexer": "ipython3",
   "version": "3.8.3"
  }
 },
 "nbformat": 4,
 "nbformat_minor": 4
}
